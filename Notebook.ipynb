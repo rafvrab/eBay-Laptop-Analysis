{
 "cells": [
  {
   "cell_type": "markdown",
   "id": "2c8926e9-d977-4437-b03f-92758a250681",
   "metadata": {},
   "source": [
    "# eBay Laptop Analysis"
   ]
  },
  {
   "cell_type": "markdown",
   "id": "6e1d0020-5982-477f-9dc0-9fc8bed0ee7e",
   "metadata": {},
   "source": [
    "This is a data exploration and analysis project that:\n",
    "- Utilizes a comprehensive dataset sourced from Kaggle\n",
    "- Aims to delve into the world of laptop listings on eBay\n",
    "- Investigates various attributes such as brand, price, ratings, and specifications\n",
    "- Employs data visualization, statistical analysis, and potentially predictive modeling\n",
    "- Seeks to uncover insights into trends, patterns, and factors influencing laptop sales and prices<br>"
   ]
  },
  {
   "cell_type": "markdown",
   "id": "aaed335f-7d76-43c7-a586-a50ade0f50eb",
   "metadata": {},
   "source": [
    "I invite you to follow along as we conduct a thorough examination of this rich dataset to gain a deeper understanding of the dynamics within the laptop market"
   ]
  },
  {
   "cell_type": "markdown",
   "id": "a0946fcf-8e46-40d7-845b-5c3290d4ddd5",
   "metadata": {},
   "source": [
    "## Step 1: Data Understanding and Exploration"
   ]
  },
  {
   "cell_type": "markdown",
   "id": "7eabd90f-1847-436f-b974-352f7e07349e",
   "metadata": {},
   "source": [
    "- Importing the necessary libraries"
   ]
  },
  {
   "cell_type": "code",
   "execution_count": 1,
   "id": "64d9ea3b-2ecc-4b2c-b430-e380f6de034e",
   "metadata": {},
   "outputs": [],
   "source": [
    "import os\n",
    "import pandas as pd"
   ]
  },
  {
   "cell_type": "markdown",
   "id": "f71cc814-f762-4cdd-ab9c-33d74577ba56",
   "metadata": {},
   "source": [
    "- Reading the Data. There are two files to open and explore."
   ]
  },
  {
   "cell_type": "code",
   "execution_count": 2,
   "id": "5dd5b49f-bb5d-4fbb-a8ff-3e7ac478fb16",
   "metadata": {},
   "outputs": [
    {
     "name": "stdout",
     "output_type": "stream",
     "text": [
      "Files in 'data' folder:\n",
      "EbayPcLaptopsAndNetbooksClean.csv\n",
      "EbayPcLaptopsAndNetbooksUnclean.csv\n"
     ]
    }
   ],
   "source": [
    "# Directory path\n",
    "directory = 'data'\n",
    "\n",
    "# List files in the directory\n",
    "files = os.listdir(directory)\n",
    "\n",
    "# Print the list of files\n",
    "print(\"Files in 'data' folder:\")\n",
    "for file in files:\n",
    "    print(file)"
   ]
  },
  {
   "cell_type": "markdown",
   "id": "eed6894c-1e79-48d2-9ee3-2664933122a5",
   "metadata": {},
   "source": [
    "- Opening the first file and assigning it a dataframe"
   ]
  },
  {
   "cell_type": "code",
   "execution_count": 3,
   "id": "d4ea0529-1ce4-4002-af6f-1804c2f32521",
   "metadata": {},
   "outputs": [
    {
     "name": "stdout",
     "output_type": "stream",
     "text": [
      "   Brand   Price Currency  Color  \\\n",
      "0  other  303.80        $   gray   \n",
      "1   dell  400.00        $  black   \n",
      "2   dell  175.00        $  black   \n",
      "3     hp   85.00        $  black   \n",
      "4   dell  101.25        $  other   \n",
      "\n",
      "                                            Features                Condition  \\\n",
      "0  Backlit Keyboard,  Built-in Microphone,  Built...                      New   \n",
      "1  Backlit Keyboard, Bluetooth, Built-in Micropho...  Very Good - Refurbished   \n",
      "2  10/100 LAN Card, Backlit Keyboard, Bluetooth, ...                     Used   \n",
      "3  Bluetooth, Built-in Microphone, Built-in Webca...       Good - Refurbished   \n",
      "4  10/100 LAN Card, Built-in Microphone, Built-in...       Good - Refurbished   \n",
      "\n",
      "                               Condition Description  \\\n",
      "0  A brand-new, unused, unopened, undamaged item ...   \n",
      "1  The item shows minimal wear and is backed by a...   \n",
      "2  An item that has been used previously. The ite...   \n",
      "3  The item shows moderate wear and is backed by ...   \n",
      "4  The item shows moderate wear and is backed by ...   \n",
      "\n",
      "                                         Seller Note    GPU  \\\n",
      "0                                          undefined  intel   \n",
      "1  aaa pcs is a microsoft authorized refurbisher ...  intel   \n",
      "2  well kept, fully functional, includes battery,...  intel   \n",
      "3  1-year allstate warranty. the original hp char...  intel   \n",
      "4  laptops is tested & fully working with some si...  other   \n",
      "\n",
      "                      Processor  ... Height of the Display       OS  \\\n",
      "0                     quad core  ...                1440.0  windows   \n",
      "1  intel core i7 8th generation  ...                1080.0  windows   \n",
      "2           intel core i5-6300u  ...                1080.0  windows   \n",
      "3               intel celeron n  ...                 768.0   chrome   \n",
      "4  intel core i5 6th generation  ...                 768.0  windows   \n",
      "\n",
      "  Storage Type  Hard Drive Capacity  Hard Drive Capacity Unit SSD Capacity  \\\n",
      "0          ssd                512.0                        gb          1.0   \n",
      "1          ssd                  2.0                        tb          NaN   \n",
      "2          ssd                500.0                        gb        500.0   \n",
      "3         emmc                 16.0                        gb          NaN   \n",
      "4          ssd                  NaN                   unknown        256.0   \n",
      "\n",
      "  SSD Capacity Unit  Screen Size (inch) Ram Size  Ram Size Unit  \n",
      "0                tb                  14      8.0             gb  \n",
      "1           unknown                  14      NaN        unknown  \n",
      "2                gb                  14     16.0             gb  \n",
      "3           unknown                11.6      4.0             gb  \n",
      "4                gb                12.5      8.0             gb  \n",
      "\n",
      "[5 rows x 24 columns]\n"
     ]
    }
   ],
   "source": [
    "# File path\n",
    "file_path = 'data/EbayPcLaptopsAndNetbooksClean.csv'\n",
    "\n",
    "# Load the CSV file into a DataFrame\n",
    "df = pd.read_csv(file_path)\n",
    "\n",
    "# Display the first few rows of the DataFrame\n",
    "print(df.head())"
   ]
  },
  {
   "cell_type": "markdown",
   "id": "c7056a46-1a29-4b5c-939e-ea808b4e651c",
   "metadata": {},
   "source": [
    "Having printed out the first few rows of the DataFrame using the .head() method gave us a glimpse of the data's structure and the values in each column. Here's a brief overview of the columns in the DataFrame based on the printed output:\n",
    "\n",
    "- <b>Brand:</b> The manufacturer or company that produces the laptop.\n",
    "- <b>Price:</b> The cost of the laptop in USD.\n",
    "- <b>Currency:</b> The currency symbol (always '$' in this case).\n",
    "- <b>Color:</b> The color of the laptop.\n",
    "- <b>Features:</b> Additional functionalities or specifications of the laptop.\n",
    "- <b>Condition:</b> The state of the laptop (e.g., New, Used, Refurbished).\n",
    "- <b>Condition Description:</b> Description of the laptop's condition.\n",
    "- <b>Seller Note:</b> Additional information or notes provided by the seller regarding the laptop.\n",
    "- <b>GPU:</b> The graphics processing unit responsible for rendering images and videos.\n",
    "- <b>Processor:</b> The central processing unit (CPU) that powers the laptop.\n",
    "- <b>Release Year:</b> The year the laptop model was released.\n",
    "- <b>Maximum Resolution:</b> The highest display resolution supported by the laptop.\n",
    "- <b>OS:</b> The operating system installed on the laptop.\n",
    "- <b>Storage Type:</b> The type of storage technology used (e.g., SSD, HDD, eMMC).\n",
    "- <b>Hard Drive Capacity:</b> The storage capacity of the traditional hard disk drive (HDD) in gigabytes (GB).\n",
    "- <b>Hard Drive Capacity Unit:</b> Unit of measurement for HDD capacity (always 'gb' in this case).\n",
    "- <b>SSD Capacity:</b> The storage capacity of the solid-state drive (SSD) in gigabytes (GB).\n",
    "- <b>SSD Capacity Unit:</b> Unit of measurement for SSD capacity (can be 'tb' or 'gb').\n",
    "- <b>Screen Size (inch):</b> The diagonal measurement of the laptop screen in inches.\n",
    "- <b>Ram Size:</b> The amount of random access memory (RAM) in gigabytes (GB).\n",
    "- <b>Ram Size Unit:</b> Unit of measurement for RAM size (always 'gb' in this case)."
   ]
  },
  {
   "cell_type": "markdown",
   "id": "e8a299d6-ed1c-4c10-9b83-a0b2b667520b",
   "metadata": {},
   "source": [
    "## Check for Data Types"
   ]
  },
  {
   "cell_type": "markdown",
   "id": "f2a581dd-0523-4e0c-b594-e01117cf00f7",
   "metadata": {},
   "source": [
    "Ensure that each column has the correct data type. For example, numerical columns should be stored as integers or floats, and categorical columns should be stored as strings or categories."
   ]
  },
  {
   "cell_type": "code",
   "execution_count": 4,
   "id": "e4152ace-19d4-4c66-9a64-ecdbfa7ad56e",
   "metadata": {},
   "outputs": [
    {
     "name": "stdout",
     "output_type": "stream",
     "text": [
      "Brand                        object\n",
      "Price                       float64\n",
      "Currency                     object\n",
      "Color                        object\n",
      "Features                     object\n",
      "Condition                    object\n",
      "Condition Description        object\n",
      "Seller Note                  object\n",
      "GPU                          object\n",
      "Processor                    object\n",
      "Processor Speed              object\n",
      "Processor Speed Unit         object\n",
      "Type                         object\n",
      "Width of the Display        float64\n",
      "Height of the Display       float64\n",
      "OS                           object\n",
      "Storage Type                 object\n",
      "Hard Drive Capacity         float64\n",
      "Hard Drive Capacity Unit     object\n",
      "SSD Capacity                float64\n",
      "SSD Capacity Unit            object\n",
      "Screen Size (inch)           object\n",
      "Ram Size                    float64\n",
      "Ram Size Unit                object\n",
      "dtype: object\n"
     ]
    }
   ],
   "source": [
    "# Check the data types of each column\n",
    "print(df.dtypes)"
   ]
  },
  {
   "cell_type": "markdown",
   "id": "8621122c-7580-4b7c-8511-c110d821139e",
   "metadata": {},
   "source": [
    "Now we will convert the 'Screen Size (inch)', 'Processor Speed', and 'Ram Size\" columns to float64."
   ]
  },
  {
   "cell_type": "code",
   "execution_count": 5,
   "id": "e47924dc-df39-481f-88af-a8bdd8e44c15",
   "metadata": {},
   "outputs": [],
   "source": [
    "# Convert 'Screen Size (inch)' column to numeric, coerce errors to NaN\n",
    "# df['Screen Size (inch)'] = pd.to_numeric(df['Screen Size (inch)'], errors='coerce')\n",
    "\n",
    "# Identify rows with NaN values in 'Screen Size (inch)'\n",
    "# problematic_rows = df[df['Screen Size (inch)'].isna()]\n",
    "\n",
    "# Display the problematic rows\n",
    "# print(problematic_rows[['Screen Size (inch)']])"
   ]
  },
  {
   "cell_type": "code",
   "execution_count": 8,
   "id": "bbeceb35-ed90-48f7-a190-953e6a9adfc6",
   "metadata": {},
   "outputs": [],
   "source": [
    "# Convert 'Screen Size (inch)' column to float64\n",
    "df['Screen Size (inch)'] = pd.to_numeric(df['Screen Size (inch)'], errors='coerce')"
   ]
  },
  {
   "cell_type": "code",
   "execution_count": 7,
   "id": "a238eee0-437b-4ad8-bacd-1af363ccdf26",
   "metadata": {},
   "outputs": [
    {
     "name": "stdout",
     "output_type": "stream",
     "text": [
      "Brand                        object\n",
      "Price                       float64\n",
      "Currency                     object\n",
      "Color                        object\n",
      "Features                     object\n",
      "Condition                    object\n",
      "Condition Description        object\n",
      "Seller Note                  object\n",
      "GPU                          object\n",
      "Processor                    object\n",
      "Processor Speed             float64\n",
      "Processor Speed Unit         object\n",
      "Type                         object\n",
      "Width of the Display        float64\n",
      "Height of the Display       float64\n",
      "OS                           object\n",
      "Storage Type                 object\n",
      "Hard Drive Capacity         float64\n",
      "Hard Drive Capacity Unit     object\n",
      "SSD Capacity                float64\n",
      "SSD Capacity Unit            object\n",
      "Screen Size (inch)          float64\n",
      "Ram Size                    float64\n",
      "Ram Size Unit                object\n",
      "dtype: object\n"
     ]
    }
   ],
   "source": [
    "# Convert 'Processor Speed' column to float64\n",
    "df['Processor Speed'] = pd.to_numeric(df['Processor Speed'], errors='coerce')\n",
    "\n",
    "# Convert 'Ram Size' column to float64\n",
    "df['Ram Size'] = pd.to_numeric(df['Ram Size'], errors='coerce')\n",
    "\n",
    "# Verify the data types after conversion\n",
    "print(df.dtypes)"
   ]
  },
  {
   "cell_type": "code",
   "execution_count": null,
   "id": "3ddd59c9-bd6e-4b3b-b877-0549a6e9b6f7",
   "metadata": {},
   "outputs": [],
   "source": []
  }
 ],
 "metadata": {
  "kernelspec": {
   "display_name": "Python 3 (ipykernel)",
   "language": "python",
   "name": "python3"
  },
  "language_info": {
   "codemirror_mode": {
    "name": "ipython",
    "version": 3
   },
   "file_extension": ".py",
   "mimetype": "text/x-python",
   "name": "python",
   "nbconvert_exporter": "python",
   "pygments_lexer": "ipython3",
   "version": "3.10.13"
  }
 },
 "nbformat": 4,
 "nbformat_minor": 5
}
